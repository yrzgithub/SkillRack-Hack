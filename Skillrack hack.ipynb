{
 "cells": [
  {
   "cell_type": "code",
   "execution_count": 1,
   "id": "bdf37294",
   "metadata": {},
   "outputs": [],
   "source": [
    "from selenium.webdriver import Chrome\n",
    "from selenium.webdriver.chrome.service import Service\n",
    "from selenium.webdriver.common.by import By\n",
    "from selenium.webdriver import ActionChains\n",
    "from selenium.webdriver.common.keys import Keys\n",
    "from webdriver_manager.chrome import ChromeDriverManager as cm\n",
    "from selenium.webdriver.support.wait import WebDriverWait as WWait\n",
    "from selenium.webdriver.support.expected_conditions import *\n",
    "from webbrowser import open_new_tab\n",
    "from easygui import *\n",
    "import os"
   ]
  },
  {
   "cell_type": "code",
   "execution_count": 2,
   "id": "bc4ad6cf",
   "metadata": {},
   "outputs": [
    {
     "name": "stdout",
     "output_type": "stream",
     "text": [
      "\n"
     ]
    },
    {
     "name": "stderr",
     "output_type": "stream",
     "text": [
      "[WDM] - ====== WebDriver manager ======\n",
      "[WDM] - Current google-chrome version is 103.0.5060\n",
      "[WDM] - Get LATEST chromedriver version for 103.0.5060 google-chrome\n",
      "[WDM] - Driver [C:\\Users\\seenu\\.wdm\\drivers\\chromedriver\\win32\\103.0.5060.134\\chromedriver.exe] found in cache\n"
     ]
    }
   ],
   "source": [
    "driver = Chrome(service=Service(cm().install()))"
   ]
  },
  {
   "cell_type": "code",
   "execution_count": 3,
   "id": "1773528a",
   "metadata": {},
   "outputs": [],
   "source": [
    "action = ActionChains(driver)"
   ]
  },
  {
   "cell_type": "code",
   "execution_count": 4,
   "id": "d6f4d4fa",
   "metadata": {},
   "outputs": [],
   "source": [
    "driver.get(\"https://www.skillrack.com\")"
   ]
  },
  {
   "cell_type": "code",
   "execution_count": 5,
   "id": "64476397",
   "metadata": {},
   "outputs": [],
   "source": [
    "to_save = False"
   ]
  },
  {
   "cell_type": "code",
   "execution_count": 8,
   "id": "b3164fd9",
   "metadata": {},
   "outputs": [],
   "source": [
    "WWait(driver,360).until(element_to_be_clickable((By.LINK_TEXT,\"Login\"))).click()"
   ]
  },
  {
   "cell_type": "code",
   "execution_count": 9,
   "id": "ec128eae",
   "metadata": {},
   "outputs": [],
   "source": [
    "username_ele = driver.find_element(By.ID,\"j_username\")\n",
    "password_ele = driver.find_element(By.ID,\"j_password\")"
   ]
  },
  {
   "cell_type": "code",
   "execution_count": 10,
   "id": "4e5fef70",
   "metadata": {},
   "outputs": [],
   "source": [
    "filename = \"login_data.txt\"\n",
    "\n",
    "if os.path.isfile(filename):\n",
    "    with open(filename,\"r\") as file:\n",
    "        username,password = file.read().split(\"\\n\")\n",
    "        file.close()\n",
    "\n",
    "else:\n",
    "    username = enterbox(title=\"Skillrack\",msg=\"Enter the skillrack ID : \")\n",
    "    password = passwordbox(title=\"Skillrack\",msg = \"Enter the password : \")\n",
    "    to_save = True\n",
    " \n",
    "    \n",
    "    \n",
    "username_ele.send_keys(username)\n",
    "password_ele.send_keys(password)\n",
    "\n",
    "login_css = \"#j_id_q > div > div > form > input\"\n",
    "driver.find_element(By.CSS_SELECTOR,login_css).click()"
   ]
  },
  {
   "cell_type": "code",
   "execution_count": 11,
   "id": "176be49e",
   "metadata": {},
   "outputs": [],
   "source": [
    "if to_save:\n",
    "    with open(filename,\"w\") as file:\n",
    "        file.write(username+\"\\n\"+password)\n",
    "        print(\"Data Saved\")\n",
    "        file.close()"
   ]
  },
  {
   "cell_type": "code",
   "execution_count": 13,
   "id": "596fd0f5",
   "metadata": {},
   "outputs": [
    {
     "name": "stdout",
     "output_type": "stream",
     "text": [
      "Given a number N, the program must print the next palindromic number P.\n",
      "\n",
      "Boundary Conditions:\n",
      "9 < N < 100000\n",
      "\n",
      "Input Format:\n",
      "First line will contain the number N\n",
      "\n",
      "Output Format:\n",
      "First line will contain the next palindromic number P.\n",
      "\n",
      "Sample Input/Output:\n",
      "\n",
      "Example 1:\n",
      "Input:\n",
      "909\n",
      "\n",
      "Output:\n",
      "919\n",
      "\n",
      "Example 2:\n",
      "Input:\n",
      "2131\n",
      "\n",
      "Output:\n",
      "2222\n",
      "A string S which represents the time in 24 hour format HH:MM is passed as input. The program must find if it is AM or PM and print it as output.\n",
      "If an invalid time is passed as input, the program must print INVALIDINPUT\n",
      "\n",
      "Boundary Conditions:\n",
      "12:00 is noon and PM must be printed as output.\n",
      "00:00 or 24:00 is midnight and AM must be printed as output.\n",
      "\n",
      "Input Format:\n",
      "First line will contain the string value S which represents the time in HH:MM format.\n",
      "\n",
      "Output Format:\n",
      "The first line will contain the output which is either AM or PM\n",
      "\n",
      "IMPORTANT: The output is case sensitive. Hence print AM or PM in upper case.\n",
      "\n",
      "Sample Input/Output:\n",
      "\n",
      "Example 1:\n",
      "Input:\n",
      "13:44\n",
      "\n",
      "Output:\n",
      "PM\n",
      "\n",
      "Example 2:\n",
      "Input:\n",
      "12:00\n",
      "\n",
      "Output:\n",
      "PM\n",
      "\n",
      "Example 3:\n",
      "Input:\n",
      "32:70\n",
      "\n",
      "Output:\n",
      "INVALIDINPUT\n",
      "\n",
      "Example 4:\n",
      "Input:\n",
      "05:32\n",
      "\n",
      "Output:\n",
      "AM\n"
     ]
    },
    {
     "ename": "KeyboardInterrupt",
     "evalue": "",
     "output_type": "error",
     "traceback": [
      "\u001b[1;31m---------------------------------------------------------------------------\u001b[0m",
      "\u001b[1;31mKeyboardInterrupt\u001b[0m                         Traceback (most recent call last)",
      "Input \u001b[1;32mIn [13]\u001b[0m, in \u001b[0;36m<cell line: 2>\u001b[1;34m()\u001b[0m\n\u001b[0;32m     16\u001b[0m url \u001b[38;5;241m=\u001b[39m \u001b[38;5;124m\"\u001b[39m\u001b[38;5;124mhttps://www.google.com/search?q=\u001b[39m\u001b[38;5;124m\"\u001b[39m \u001b[38;5;241m+\u001b[39m search\n\u001b[0;32m     17\u001b[0m open_new_tab(url)\n\u001b[1;32m---> 19\u001b[0m code \u001b[38;5;241m=\u001b[39m \u001b[43mcodebox\u001b[49m\u001b[43m(\u001b[49m\u001b[43mtitle\u001b[49m\u001b[38;5;241;43m=\u001b[39;49m\u001b[38;5;124;43m\"\u001b[39;49m\u001b[38;5;124;43mskillRack\u001b[39;49m\u001b[38;5;124;43m\"\u001b[39;49m\u001b[43m,\u001b[49m\u001b[43mmsg\u001b[49m\u001b[38;5;241;43m=\u001b[39;49m\u001b[38;5;124;43m\"\u001b[39;49m\u001b[38;5;124;43mPaste the code here : \u001b[39;49m\u001b[38;5;124;43m\"\u001b[39;49m\u001b[43m)\u001b[49m\n\u001b[0;32m     20\u001b[0m lines \u001b[38;5;241m=\u001b[39m code\u001b[38;5;241m.\u001b[39msplit(\u001b[38;5;124m\"\u001b[39m\u001b[38;5;130;01m\\n\u001b[39;00m\u001b[38;5;124m\"\u001b[39m)\n\u001b[0;32m     22\u001b[0m driver\u001b[38;5;241m.\u001b[39mfind_element(By\u001b[38;5;241m.\u001b[39mID,\u001b[38;5;124m\"\u001b[39m\u001b[38;5;124mj_id_6t\u001b[39m\u001b[38;5;124m\"\u001b[39m)\u001b[38;5;241m.\u001b[39mclick()\n",
      "File \u001b[1;32m~\\AppData\\Local\\Programs\\Python\\Python39\\lib\\site-packages\\easygui\\boxes\\derived_boxes.py:428\u001b[0m, in \u001b[0;36mcodebox\u001b[1;34m(msg, title, text)\u001b[0m\n\u001b[0;32m    415\u001b[0m \u001b[38;5;28;01mdef\u001b[39;00m \u001b[38;5;21mcodebox\u001b[39m(msg\u001b[38;5;241m=\u001b[39m\u001b[38;5;124m\"\u001b[39m\u001b[38;5;124m\"\u001b[39m, title\u001b[38;5;241m=\u001b[39m\u001b[38;5;124m\"\u001b[39m\u001b[38;5;124m \u001b[39m\u001b[38;5;124m\"\u001b[39m, text\u001b[38;5;241m=\u001b[39m\u001b[38;5;124m\"\u001b[39m\u001b[38;5;124m\"\u001b[39m):\n\u001b[0;32m    416\u001b[0m     \u001b[38;5;124;03m\"\"\"\u001b[39;00m\n\u001b[0;32m    417\u001b[0m \u001b[38;5;124;03m    Display some text in a monospaced font, with no line wrapping.\u001b[39;00m\n\u001b[0;32m    418\u001b[0m \u001b[38;5;124;03m    This function is suitable for displaying code and text that is\u001b[39;00m\n\u001b[1;32m   (...)\u001b[0m\n\u001b[0;32m    426\u001b[0m \u001b[38;5;124;03m    :param str text: what to display in the textbox\u001b[39;00m\n\u001b[0;32m    427\u001b[0m \u001b[38;5;124;03m    \"\"\"\u001b[39;00m\n\u001b[1;32m--> 428\u001b[0m     \u001b[38;5;28;01mreturn\u001b[39;00m \u001b[43mtb\u001b[49m\u001b[38;5;241;43m.\u001b[39;49m\u001b[43mtextbox\u001b[49m\u001b[43m(\u001b[49m\u001b[43mmsg\u001b[49m\u001b[43m,\u001b[49m\u001b[43m \u001b[49m\u001b[43mtitle\u001b[49m\u001b[43m,\u001b[49m\u001b[43m \u001b[49m\u001b[43mtext\u001b[49m\u001b[43m,\u001b[49m\u001b[43m \u001b[49m\u001b[43mcodebox\u001b[49m\u001b[38;5;241;43m=\u001b[39;49m\u001b[38;5;28;43;01mTrue\u001b[39;49;00m\u001b[43m)\u001b[49m\n",
      "File \u001b[1;32m~\\AppData\\Local\\Programs\\Python\\Python39\\lib\\site-packages\\easygui\\boxes\\text_box.py:193\u001b[0m, in \u001b[0;36mtextbox\u001b[1;34m(msg, title, text, codebox, callback, run)\u001b[0m\n\u001b[0;32m    191\u001b[0m     \u001b[38;5;28;01mreturn\u001b[39;00m tb\n\u001b[0;32m    192\u001b[0m \u001b[38;5;28;01melse\u001b[39;00m:\n\u001b[1;32m--> 193\u001b[0m     reply \u001b[38;5;241m=\u001b[39m \u001b[43mtb\u001b[49m\u001b[38;5;241;43m.\u001b[39;49m\u001b[43mrun\u001b[49m\u001b[43m(\u001b[49m\u001b[43m)\u001b[49m\n\u001b[0;32m    194\u001b[0m     \u001b[38;5;28;01mreturn\u001b[39;00m reply\n",
      "File \u001b[1;32m~\\AppData\\Local\\Programs\\Python\\Python39\\lib\\site-packages\\easygui\\boxes\\text_box.py:236\u001b[0m, in \u001b[0;36mTextBox.run\u001b[1;34m(self)\u001b[0m\n\u001b[0;32m    234\u001b[0m \u001b[38;5;28;01mdef\u001b[39;00m \u001b[38;5;21mrun\u001b[39m(\u001b[38;5;28mself\u001b[39m):\n\u001b[0;32m    235\u001b[0m     \u001b[38;5;124;03m\"\"\" Start the ui \"\"\"\u001b[39;00m\n\u001b[1;32m--> 236\u001b[0m     \u001b[38;5;28;43mself\u001b[39;49m\u001b[38;5;241;43m.\u001b[39;49m\u001b[43mui\u001b[49m\u001b[38;5;241;43m.\u001b[39;49m\u001b[43mrun\u001b[49m\u001b[43m(\u001b[49m\u001b[43m)\u001b[49m\n\u001b[0;32m    237\u001b[0m     \u001b[38;5;28mself\u001b[39m\u001b[38;5;241m.\u001b[39mui \u001b[38;5;241m=\u001b[39m \u001b[38;5;28;01mNone\u001b[39;00m\n\u001b[0;32m    238\u001b[0m     \u001b[38;5;28;01mreturn\u001b[39;00m \u001b[38;5;28mself\u001b[39m\u001b[38;5;241m.\u001b[39m_text\n",
      "File \u001b[1;32m~\\AppData\\Local\\Programs\\Python\\Python39\\lib\\site-packages\\easygui\\boxes\\text_box.py:370\u001b[0m, in \u001b[0;36mGUItk.run\u001b[1;34m(self)\u001b[0m\n\u001b[0;32m    369\u001b[0m \u001b[38;5;28;01mdef\u001b[39;00m \u001b[38;5;21mrun\u001b[39m(\u001b[38;5;28mself\u001b[39m):\n\u001b[1;32m--> 370\u001b[0m     \u001b[38;5;28;43mself\u001b[39;49m\u001b[38;5;241;43m.\u001b[39;49m\u001b[43mboxRoot\u001b[49m\u001b[38;5;241;43m.\u001b[39;49m\u001b[43mmainloop\u001b[49m\u001b[43m(\u001b[49m\u001b[43m)\u001b[49m\n\u001b[0;32m    371\u001b[0m     \u001b[38;5;28mself\u001b[39m\u001b[38;5;241m.\u001b[39mboxRoot\u001b[38;5;241m.\u001b[39mdestroy()\n",
      "File \u001b[1;32m~\\AppData\\Local\\Programs\\Python\\Python39\\lib\\tkinter\\__init__.py:1429\u001b[0m, in \u001b[0;36mMisc.mainloop\u001b[1;34m(self, n)\u001b[0m\n\u001b[0;32m   1427\u001b[0m \u001b[38;5;28;01mdef\u001b[39;00m \u001b[38;5;21mmainloop\u001b[39m(\u001b[38;5;28mself\u001b[39m, n\u001b[38;5;241m=\u001b[39m\u001b[38;5;241m0\u001b[39m):\n\u001b[0;32m   1428\u001b[0m     \u001b[38;5;124;03m\"\"\"Call the mainloop of Tk.\"\"\"\u001b[39;00m\n\u001b[1;32m-> 1429\u001b[0m     \u001b[38;5;28;43mself\u001b[39;49m\u001b[38;5;241;43m.\u001b[39;49m\u001b[43mtk\u001b[49m\u001b[38;5;241;43m.\u001b[39;49m\u001b[43mmainloop\u001b[49m\u001b[43m(\u001b[49m\u001b[43mn\u001b[49m\u001b[43m)\u001b[49m\n",
      "\u001b[1;31mKeyboardInterrupt\u001b[0m: "
     ]
    }
   ],
   "source": [
    "while True:    \n",
    "    WWait(driver,360).until(element_to_be_clickable((By.ID,\"j_id_6t\")))\n",
    "    \n",
    "    paras = driver.find_elements(By.TAG_NAME,\"p\")\n",
    "\n",
    "    full_question = \"\"\n",
    "    search = paras[0].text\n",
    "\n",
    "    for para in paras:\n",
    "        full_question+=para.text + \"\\n\\n\"\n",
    "\n",
    "    search = search.strip()\n",
    "    full_question = full_question.strip()\n",
    "    print(full_question)\n",
    "\n",
    "    url = \"https://www.google.com/search?q=\" + search\n",
    "    open_new_tab(url)\n",
    "\n",
    "    code = codebox(title=\"skillRack\",msg=\"Paste the code here : \")\n",
    "    lines = code.split(\"\\n\")\n",
    "\n",
    "    driver.find_element(By.ID,\"j_id_6t\").click()\n",
    "    WWait(driver,360).until(element_to_be_clickable((By.ID,\"codediv\"))).click()\n",
    "\n",
    "    action.key_down(Keys.CONTROL).send_keys(\"a\").key_up(Keys.CONTROL).send_keys(Keys.BACKSPACE).perform()\n",
    "    code_box = driver.switch_to.active_element\n",
    "\n",
    "    for line in lines:\n",
    "        code_box.clear()\n",
    "        code_box.send_keys(line+\" \")\n",
    "        code_box.send_keys(Keys.ENTER)\n",
    "\n",
    "    driver.find_element(By.ID,\"j_id_as\").click()"
   ]
  },
  {
   "cell_type": "code",
   "execution_count": null,
   "id": "564372f2",
   "metadata": {},
   "outputs": [],
   "source": []
  },
  {
   "cell_type": "code",
   "execution_count": null,
   "id": "855141ef",
   "metadata": {},
   "outputs": [],
   "source": []
  },
  {
   "cell_type": "code",
   "execution_count": null,
   "id": "2f458299",
   "metadata": {},
   "outputs": [],
   "source": []
  }
 ],
 "metadata": {
  "kernelspec": {
   "display_name": "Python 3 (ipykernel)",
   "language": "python",
   "name": "python3"
  },
  "language_info": {
   "codemirror_mode": {
    "name": "ipython",
    "version": 3
   },
   "file_extension": ".py",
   "mimetype": "text/x-python",
   "name": "python",
   "nbconvert_exporter": "python",
   "pygments_lexer": "ipython3",
   "version": "3.9.7"
  }
 },
 "nbformat": 4,
 "nbformat_minor": 5
}
