{
 "cells": [
  {
   "cell_type": "code",
   "execution_count": 1,
   "id": "bdf37294",
   "metadata": {},
   "outputs": [],
   "source": [
    "from selenium.webdriver import Chrome\n",
    "from selenium.webdriver.chrome.service import Service\n",
    "from selenium.webdriver.common.by import By\n",
    "from selenium.webdriver import ActionChains\n",
    "from selenium.webdriver.common.keys import Keys\n",
    "from webdriver_manager.chrome import ChromeDriverManager as cm\n",
    "from selenium.webdriver.support.wait import WebDriverWait as WWait\n",
    "from selenium.webdriver.support.expected_conditions import *\n",
    "from webbrowser import open_new_tab\n",
    "from easygui import *\n",
    "import os"
   ]
  },
  {
   "cell_type": "code",
   "execution_count": 2,
   "id": "bc4ad6cf",
   "metadata": {},
   "outputs": [
    {
     "name": "stdout",
     "output_type": "stream",
     "text": [
      "\n"
     ]
    },
    {
     "name": "stderr",
     "output_type": "stream",
     "text": [
      "[WDM] - ====== WebDriver manager ======\n",
      "[WDM] - Current google-chrome version is 103.0.5060\n",
      "[WDM] - Get LATEST chromedriver version for 103.0.5060 google-chrome\n",
      "[WDM] - Driver [C:\\Users\\seenu\\.wdm\\drivers\\chromedriver\\win32\\103.0.5060.134\\chromedriver.exe] found in cache\n"
     ]
    }
   ],
   "source": [
    "driver = Chrome(service=Service(cm().install()))"
   ]
  },
  {
   "cell_type": "code",
   "execution_count": 3,
   "id": "1773528a",
   "metadata": {},
   "outputs": [],
   "source": [
    "action = ActionChains(driver)"
   ]
  },
  {
   "cell_type": "code",
   "execution_count": 4,
   "id": "d6f4d4fa",
   "metadata": {},
   "outputs": [],
   "source": [
    "driver.get(\"https://www.skillrack.com\")"
   ]
  },
  {
   "cell_type": "code",
   "execution_count": 5,
   "id": "64476397",
   "metadata": {},
   "outputs": [],
   "source": [
    "to_save = False"
   ]
  },
  {
   "cell_type": "code",
   "execution_count": 8,
   "id": "b3164fd9",
   "metadata": {},
   "outputs": [],
   "source": [
    "WWait(driver,360).until(element_to_be_clickable((By.LINK_TEXT,\"Login\"))).click()"
   ]
  },
  {
   "cell_type": "code",
   "execution_count": 9,
   "id": "ec128eae",
   "metadata": {},
   "outputs": [],
   "source": [
    "username_ele = driver.find_element(By.ID,\"j_username\")\n",
    "password_ele = driver.find_element(By.ID,\"j_password\")"
   ]
  },
  {
   "cell_type": "code",
   "execution_count": 10,
   "id": "4e5fef70",
   "metadata": {},
   "outputs": [],
   "source": [
    "filename = \"login_data.txt\"\n",
    "\n",
    "if os.path.isfile(filename):\n",
    "    with open(filename,\"r\") as file:\n",
    "        username,password = file.read().split(\"\\n\")\n",
    "        file.close()\n",
    "\n",
    "else:\n",
    "    username = enterbox(title=\"Skillrack\",msg=\"Enter the skillrack ID : \")\n",
    "    password = passwordbox(title=\"Skillrack\",msg = \"Enter the password : \")\n",
    "    to_save = True\n",
    " \n",
    "    \n",
    "    \n",
    "username_ele.send_keys(username)\n",
    "password_ele.send_keys(password)\n",
    "\n",
    "login_css = \"#j_id_q > div > div > form > input\"\n",
    "driver.find_element(By.CSS_SELECTOR,login_css).click()"
   ]
  },
  {
   "cell_type": "code",
   "execution_count": 11,
   "id": "176be49e",
   "metadata": {},
   "outputs": [],
   "source": [
    "if to_save:\n",
    "    with open(filename,\"w\") as file:\n",
    "        file.write(username+\"\\n\"+password)\n",
    "        print(\"Data Saved\")\n",
    "        file.close()"
   ]
  },
  {
   "cell_type": "code",
   "execution_count": null,
   "id": "596fd0f5",
   "metadata": {},
   "outputs": [],
   "source": [
    "while True:    \n",
    "    WWait(driver,360).until(element_to_be_clickable((By.ID,\"j_id_6t\")))\n",
    "    \n",
    "    paras = driver.find_elements(By.TAG_NAME,\"p\")\n",
    "\n",
    "    full_question = \"\"\n",
    "    search = paras[0].text\n",
    "\n",
    "    for para in paras:\n",
    "        full_question+=para.text + \"\\n\\n\"\n",
    "\n",
    "    search = search.strip()\n",
    "    full_question = full_question.strip()\n",
    "    print(full_question)\n",
    "\n",
    "    url = \"https://www.google.com/search?q=\" + search\n",
    "    open_new_tab(url)\n",
    "\n",
    "    code = codebox(title=\"skillRack\",msg=\"Paste the code here : \")\n",
    "    lines = code.split(\"\\n\")\n",
    "\n",
    "    driver.find_element(By.ID,\"j_id_6t\").click()\n",
    "    WWait(driver,360).until(element_to_be_clickable((By.ID,\"codediv\"))).click()\n",
    "\n",
    "    action.key_down(Keys.CONTROL).send_keys(\"a\").key_up(Keys.CONTROL).send_keys(Keys.BACKSPACE).perform()\n",
    "    code_box = driver.switch_to.active_element\n",
    "\n",
    "    for line in lines:\n",
    "        code_box.clear()\n",
    "        code_box.send_keys(line+\" \")\n",
    "        code_box.send_keys(Keys.ENTER)\n",
    "\n",
    "    driver.find_element(By.ID,\"j_id_as\").click()"
   ]
  }
 ],
 "metadata": {
  "kernelspec": {
   "display_name": "Python 3.9.7 64-bit (system)",
   "language": "python",
   "name": "python3"
  },
  "language_info": {
   "codemirror_mode": {
    "name": "ipython",
    "version": 3
   },
   "file_extension": ".py",
   "mimetype": "text/x-python",
   "name": "python",
   "nbconvert_exporter": "python",
   "pygments_lexer": "ipython3",
   "version": "3.9.7"
  },
  "vscode": {
   "interpreter": {
    "hash": "a808fd29c6ebcee0ba94e9b827916e24d665099e61cc12df8d0b8f6d36847a04"
   }
  }
 },
 "nbformat": 4,
 "nbformat_minor": 5
}
